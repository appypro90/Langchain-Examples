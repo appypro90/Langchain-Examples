{
 "cells": [
  {
   "cell_type": "code",
   "execution_count": 2,
   "metadata": {},
   "outputs": [],
   "source": [
    "from langchain_openai import ChatOpenAI\n",
    "\n",
    "llm = ChatOpenAI(model=\"gpt-4o-mini\")"
   ]
  },
  {
   "cell_type": "code",
   "execution_count": 3,
   "metadata": {},
   "outputs": [
    {
     "data": {
      "text/plain": [
       "Joke(setup='Why did the woodpecker get a promotion?', punchline='Because he was always pecking away at his work!', rating=7)"
      ]
     },
     "execution_count": 3,
     "metadata": {},
     "output_type": "execute_result"
    }
   ],
   "source": [
    "from typing import Optional\n",
    "\n",
    "from pydantic import BaseModel, Field\n",
    "\n",
    "\n",
    "# Pydantic\n",
    "class Joke(BaseModel):\n",
    "    \"\"\"Joke to tell user.\"\"\"\n",
    "\n",
    "    setup: str = Field(description=\"The setup of the joke\")\n",
    "    punchline: str = Field(description=\"The punchline to the joke\")\n",
    "    rating: Optional[int] = Field(\n",
    "        default=None, description=\"How funny the joke is, from 1 to 10\"\n",
    "    )\n",
    "\n",
    "\n",
    "structured_llm = llm.with_structured_output(Joke)\n",
    "\n",
    "structured_llm.invoke(\"what's something funny about woodpeckers\")"
   ]
  },
  {
   "cell_type": "code",
   "execution_count": 26,
   "metadata": {},
   "outputs": [
    {
     "name": "stdout",
     "output_type": "stream",
     "text": [
      "setup='Woodpecker' punchline='Woodpecker knocks all day, but who knew it was just trying to get some woodblock party vibes going?' rating=7\n",
      "content='You are a hilarious comedian. Your specialty is knock-knock jokes. Return a joke which has the setup (the response to \"Who\\'s there?\") and the final punchline (the response to \"<setup> who?\").\\n\\nHere are some examples of jokes:\\n\\nhuman: Tell me a joke about planes\\nAI: {\"setup\": \"Why don\\'t planes ever get tired?\", \"punchline\": \"Because they have rest wings!\", \"rating\": 2}\\n\\nhuman: Tell me another joke about planes\\nAI: {\"setup\": \"Cargo\", \"punchline\": \"Cargo \\'vroom vroom\\', but planes go \\'zoom zoom\\'!\", \"rating\": 10}\\n\\nhuman: Now about caterpillars\\nAI: {\"setup\": \"Caterpillar\", \"punchline\": \"Caterpillar really slow, but watch me turn into a butterfly and steal the show!\", \"rating\": 5}' additional_kwargs={} response_metadata={}\n"
     ]
    }
   ],
   "source": [
    "from langchain_core.prompts import ChatPromptTemplate\n",
    "\n",
    "system = \"\"\"You are a hilarious comedian. Your specialty is knock-knock jokes. \\\n",
    "Return a joke which has the setup (the response to \"Who's there?\") and the final punchline (the response to \"<setup> who?\").\n",
    "\n",
    "Here are some examples of jokes:\n",
    "\n",
    "human: Tell me a joke about planes\n",
    "AI: {{\"setup\": \"Why don't planes ever get tired?\", \"punchline\": \"Because they have rest wings!\", \"rating\": 2}}\n",
    "\n",
    "human: Tell me another joke about planes\n",
    "AI: {{\"setup\": \"Cargo\", \"punchline\": \"Cargo 'vroom vroom', but planes go 'zoom zoom'!\", \"rating\": 10}}\n",
    "\n",
    "human: Now about caterpillars\n",
    "AI: {{\"setup\": \"Caterpillar\", \"punchline\": \"Caterpillar really slow, but watch me turn into a butterfly and steal the show!\", \"rating\": 5}}\"\"\"\n",
    "\n",
    "prompt = ChatPromptTemplate.from_messages([(\"system\", system), (\"human\", \"{input}\")])\n",
    "\n",
    "few_shot_structured_llm = prompt | structured_llm\n",
    "print(few_shot_structured_llm.invoke(\"what's something funny about woodpeckers\"))\n",
    "print(prompt.messages[0].format_messages()[0])"
   ]
  },
  {
   "cell_type": "code",
   "execution_count": 56,
   "metadata": {},
   "outputs": [
    {
     "data": {
      "text/plain": [
       "{'lc': 1,\n",
       " 'type': 'constructor',\n",
       " 'id': ['langchain', 'schema', 'messages', 'AIMessage'],\n",
       " 'kwargs': {'content': '',\n",
       "  'additional_kwargs': {'tool_calls': [{'id': 'call_Yeg65UF0PmFwVbMCwHex5j78',\n",
       "     'function': {'arguments': '{\"setup\":\"Woodpecker\",\"punchline\":\"Woodpecker knocking on trees, just trying to get a little \\'bark\\' in my life!\",\"rating\":7}',\n",
       "      'name': 'Joke'},\n",
       "     'type': 'function'}],\n",
       "   'refusal': None},\n",
       "  'response_metadata': {'token_usage': {'completion_tokens': 46,\n",
       "    'prompt_tokens': 278,\n",
       "    'total_tokens': 324,\n",
       "    'completion_tokens_details': {'reasoning_tokens': 0}},\n",
       "   'model_name': 'gpt-4o-mini-2024-07-18',\n",
       "   'system_fingerprint': 'fp_1bb46167f9',\n",
       "   'finish_reason': 'tool_calls',\n",
       "   'logprobs': None},\n",
       "  'type': 'ai',\n",
       "  'id': 'run-956cd3ac-50bf-45e6-be32-ea13d6b17a6d-0',\n",
       "  'tool_calls': [{'name': 'Joke',\n",
       "    'args': {'setup': 'Woodpecker',\n",
       "     'punchline': \"Woodpecker knocking on trees, just trying to get a little 'bark' in my life!\",\n",
       "     'rating': 7},\n",
       "    'id': 'call_Yeg65UF0PmFwVbMCwHex5j78',\n",
       "    'type': 'tool_call'}],\n",
       "  'usage_metadata': {'input_tokens': 278,\n",
       "   'output_tokens': 46,\n",
       "   'total_tokens': 324},\n",
       "  'invalid_tool_calls': []}}"
      ]
     },
     "execution_count": 56,
     "metadata": {},
     "output_type": "execute_result"
    }
   ],
   "source": [
    "tools = [Joke]\n",
    "llm_with_tool = llm.bind_tools(tools)\n",
    "few_shot_llm_with_tools = prompt | llm_with_tool\n",
    "few_shot_llm_with_tools.invoke(\"what's something funny about woodpeckers\").to_json()"
   ]
  },
  {
   "cell_type": "code",
   "execution_count": 50,
   "metadata": {},
   "outputs": [
    {
     "data": {
      "text/plain": [
       "AIMessage(content='', additional_kwargs={'tool_calls': [{'id': 'call_hEZ0vS7qfLALJ8jx6LBPehnB', 'function': {'arguments': '{\"setup\":\"Woodpecker\",\"punchline\":\"Woodpecker knocked on my door, I told him to \\'peck off\\'!\",\"rating\":7}', 'name': 'Joke'}, 'type': 'function'}], 'refusal': None}, response_metadata={'token_usage': {'completion_tokens': 43, 'prompt_tokens': 278, 'total_tokens': 321, 'completion_tokens_details': {'reasoning_tokens': 0}}, 'model_name': 'gpt-4o-mini-2024-07-18', 'system_fingerprint': 'fp_1bb46167f9', 'finish_reason': 'tool_calls', 'logprobs': None}, id='run-fb74391e-d00a-42a7-b3fc-4959999971a3-0', tool_calls=[{'name': 'Joke', 'args': {'setup': 'Woodpecker', 'punchline': \"Woodpecker knocked on my door, I told him to 'peck off'!\", 'rating': 7}, 'id': 'call_hEZ0vS7qfLALJ8jx6LBPehnB', 'type': 'tool_call'}], usage_metadata={'input_tokens': 278, 'output_tokens': 43, 'total_tokens': 321})"
      ]
     },
     "execution_count": 50,
     "metadata": {},
     "output_type": "execute_result"
    }
   ],
   "source": [
    "await few_shot_llm_with_tools.ainvoke(\"what's something funny about woodpeckers\")"
   ]
  },
  {
   "cell_type": "code",
   "execution_count": null,
   "metadata": {},
   "outputs": [],
   "source": []
  }
 ],
 "metadata": {
  "kernelspec": {
   "display_name": "Python 3",
   "language": "python",
   "name": "python3"
  },
  "language_info": {
   "codemirror_mode": {
    "name": "ipython",
    "version": 3
   },
   "file_extension": ".py",
   "mimetype": "text/x-python",
   "name": "python",
   "nbconvert_exporter": "python",
   "pygments_lexer": "ipython3",
   "version": "3.11.9"
  }
 },
 "nbformat": 4,
 "nbformat_minor": 2
}
