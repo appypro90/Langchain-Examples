{
 "cells": [
  {
   "cell_type": "code",
   "execution_count": 1,
   "metadata": {},
   "outputs": [],
   "source": [
    "example_template_prompt = \"Summary Instructions: {summary_instructions}\\n\\nConversation: {conversation}\\n\\nSummary:\\t{summary}\""
   ]
  },
  {
   "cell_type": "code",
   "execution_count": 2,
   "metadata": {},
   "outputs": [],
   "source": [
    "json_schema = {\n",
    "    \"title\": \"Policy_Items\",\n",
    "    \"description\": \"Policy and claim details including a conversation summary.\",\n",
    "    \"type\": \"object\",\n",
    "    \"properties\": {\n",
    "        \"customer_name\": {\n",
    "            \"type\": \"string\",\n",
    "            \"description\": \"The name of the customer. FInd it out from the customer's introduction\",\n",
    "        },\n",
    "        \"claim_number\": {\n",
    "            \"type\": \"string\",\n",
    "            \"description\": \"The claim number associated with the customer's claim\",\n",
    "        },\n",
    "        \"policy_number\": {\n",
    "            \"type\": \"string\",\n",
    "            \"description\": \"The policy number associated with the customer's claim\",\n",
    "        },\n",
    "    },\n",
    "    \"required\": [],\n",
    "}"
   ]
  },
  {
   "cell_type": "code",
   "execution_count": 3,
   "metadata": {},
   "outputs": [],
   "source": [
    "examples = [\n",
    "    {\n",
    "        \"summary_instructions\": \"Make sure to capture a very concise summary of the conversation. Please make sure not to miss any vital details like claim number for the conversation below:\",\n",
    "        \"conversation\": \"\"\"\n",
    "Agent: Hello, thank you for calling TAL claims department. My name is Sarah, how can I assist you today?\n",
    "Customer: Hi Sarah, I’m calling about a claim I submitted for my car accident last week. I wanted to check the status and find out what happens next.\n",
    "Agent: I’m sorry to hear about your accident. I’ll certainly look into that for you. Can you please provide me with your claim number or policy number so I can locate your file?\n",
    "Customer: Sure, my claim number is 87654-AB.\n",
    "Agent: Thank you. Let me pull that up for you...Okay, I have your claim here. It looks like this was a claim for a collision, is that correct?\n",
    "Customer: Yes, that’s correct. It was a rear-end collision.\n",
    "Agent: I see. I can confirm that your claim was received last week on the 15th, and the adjuster assigned to your case is reviewing it. Have you been able to get an estimate for the damage yet?\n",
    "Customer: Yes, I took my car to the repair shop, and they provided an estimate of around $3,500 to fix the damage.\n",
    "Agent: Got it. Have you uploaded or sent that estimate to us yet? I don’t see it in the system here.\n",
    "Customer: Oh, I didn’t realize I needed to send it over. How should I do that?\n",
    "Agent: No problem! You can upload the estimate through our online claims portal, or if you prefer, I can email you a link where you can upload the document directly. Would that work for you?\n",
    "Customer: That sounds great. Could you please send me the link?\n",
    "Agent: Absolutely. I’ll email you the link right now, and once you have it, just follow the instructions to upload the estimate. I’ll keep an eye on the system, and as soon as we receive it, I’ll notify your adjuster.\n",
    "Cutomer: Okay, perfect! Thank you for that. I’ve been worried about how long this process would take.\n",
    "Agent:  I completely understand. Typically, once we receive the estimate, your adjuster will review it within 2-3 business days. They’ll reach out to you if they need any additional information or have any questions. After that, we’ll proceed with approving the repairs.\n",
    "Customer: That’s good to know. And how do I get my car repaired? Do I just take it back to the repair shop?\n",
    "Agent: Yes, once the estimate is approved, you can schedule your repair directly with the shop. If it’s one of our network shops, we’ll handle the payment directly with them. If it’s not, you might have to pay the repair shop first, and then we’ll reimburse you based on the approved amount.\n",
    "Customer: Ah, okay. I think the shop I went to is in your network, so I’ll just wait for the approval then. Is there anything else I need to do in the meantime?\n",
    "Agent: As long as the estimate gets uploaded and reviewed, that should be everything for now. Your adjuster will let you know if they need more details. You can also track your claim status through the online portal at any time.\n",
    "Customer: Great, I’ll upload the estimate right away. Oh, I have another question – my policy has rental car coverage. Will that apply since my car is in the shop?\n",
    "Agent: Yes, your policy does include rental car coverage. Once your claim is approved for repairs, we can arrange for a rental car. You can either use one of our partnered rental services, or if you have a preference, we can reimburse you up to the daily limit based on your coverage.\n",
    "Customer: That’s great to hear. How do I go about arranging the rental?\n",
    "Agent: If you’d like, I can go ahead and book the rental for you through our partner service once your repairs are scheduled. Alternatively, you can arrange it yourself and submit the receipt for reimbursement. Would you prefer to have us handle the rental booking?\n",
    "Customer: Yes, please go ahead and handle that. I’ll definitely need the car while mine is in the shop.\n",
    "Agent: No problem! I’ve noted that down. Once the repairs are approved and scheduled, I’ll contact you to finalize the rental details.\n",
    "Customer: Perfect! You’ve been really helpful, Sarah. I feel much better about the process now.\n",
    "Agent: I’m so glad to hear that! If you have any other questions or need further assistance, feel free to give us a call. I’ll follow up with you once the estimate is reviewed.\n",
    "Customer: Thank you so much. I’ll upload the estimate right away!\n",
    "Agent: You’re welcome! Have a great day, and we’ll be in touch soon.\n",
    "Customer: Thanks, you too!\n",
    "        \"\"\",\n",
    "        \"category\": \"Enquire claim\",\n",
    "        \"summary\": \"\"\"\n",
    "The customer called TAL claims department to check the status of their car accident claim with claim number **87654-AB**. The agent confirmed that the claim was received on the 15th and is under review. The customer mentioned having an estimate of $3,500 for repairs but had not yet uploaded it. The agent sent a link for uploading the estimate. The adjuster will review the estimate within 2-3 business days. The customer also asked about rental car coverage, which the policy includes. The agent offered to arrange a rental car once the repairs are approved.\n",
    "\"\"\",\n",
    "    },\n",
    "        {\n",
    "        \"summary_instructions\": \"Make sure to capture a very concise summary of the conversation. Please make sure not to miss any vital details like policy number for the conversation below:\",\n",
    "        \"conversation\": \"\"\"\n",
    "Agent: Hello, thank you for calling [Insurance Company] claims department. My name is John. How can I assist you today?\n",
    "Customer: Hi John, I’d like to submit a new claim for my car. I was involved in an accident yesterday.\n",
    "Agent: I’m sorry to hear that. I’ll help you get the claim started right away. First, can you please provide your policy number or any details so I can pull up your account?\n",
    "Customer: Sure, my policy number is 12345XYZ.\n",
    "Agent: Thank you. Let me pull that up...Alright, I’ve found your policy. Could you please give me a brief description of what happened during the accident?\n",
    "Customer: Yes, I was driving on the highway when someone in front of me suddenly braked. I couldn’t stop in time and rear-ended them. No one was injured, but my car has significant damage to the front.\n",
    "Agent: Thank you for explaining that. I’m glad to hear no one was hurt. Were the police involved, and did you file a report?\n",
    "Customer: Yes, the police came, and I have a copy of the report.\n",
    "Agent: Great. We’ll need a copy of that report to process the claim, but we can continue with the initial steps for now. Were there any other vehicles involved in the accident besides the one you rear-ended?\n",
    "Customer: No, just my car and theirs.\n",
    "Agent: Got it. Based on your description, this will be a collision claim. I’ll go ahead and create a claim file for you. Do you have any photos of the damage that you can upload to our claims portal?\n",
    "Customer: Yes, I took several photos right after the accident. How do I upload those?\n",
    "Agent: You can upload them through our online claims portal. I’ll send you a link to access it, and you can follow the instructions to submit your photos and the police report. Does that sound okay?\n",
    "Customer: Yes, that works. Please send the link.\n",
    "Agent: I’ve just sent you the link. Once we receive the photos and police report, we’ll assign an adjuster to review the claim. They will reach out to you within 1-2 business days. Have you had an estimate for the damage to your vehicle yet?\n",
    "Customer: No, I haven’t taken the car to a shop yet. Should I do that now?\n",
    "Agent: It’s not required to have an estimate immediately, but you can take your car to any of our preferred repair shops, and they will provide an estimate and coordinate with us directly. If you’d prefer to use a different shop, just let us know, and we can work with them.\n",
    "Customer: I’ll probably go with one of your recommended shops. Is there anything else I need to do for the claim?\n",
    "Agent: Once you upload the photos and report, that should be all for now. Your adjuster will take it from there and guide you through the next steps, including repair arrangements and any additional details we may need.\n",
    "Customer: Okay, great. I’ll upload the documents as soon as possible. Does my policy cover a rental car while mine is being repaired?\n",
    "Agent: Let me check that for you...Yes, your policy includes rental car coverage for up to 10 days. Once your claim is approved, you can either book a rental through our preferred providers, or if you have a preferred company, we can reimburse you up to the daily limit.\n",
    "Customer: That’s good to know. I’ll definitely need a rental while my car is being fixed.\n",
    "Agent: Absolutely. Once your adjuster reviews the claim and repairs are approved, they’ll help you arrange for the rental car. Anything else I can assist you with today?\n",
    "Customer: No, I think that covers everything for now. Thanks for your help, John.\n",
    "Agent: You’re very welcome! I’ll keep an eye out for your documents, and we’ll be in touch shortly once your claim is under review. Have a great day.\n",
    "Customer: Thanks, you too!\n",
    "        \"\"\",\n",
    "        \"category\": \"Create a claim\",\n",
    "        \"summary\": \"\"\"\n",
    "The customer contacted the insurance company to submit a new claim for a car accident, providing policy number 12345XYZ. The customer explained that they rear-ended another car, with no injuries but significant front-end damage to their vehicle. The police were involved, and the customer has a report. The agent created a collision claim file and sent the customer a link to upload the police report and accident photos. The customer has not yet received a repair estimate but plans to visit a recommended shop. The policy includes rental car coverage for up to 10 days. The adjuster will review the claim within 1-2 business days.\n",
    "\"\"\",\n",
    "    }\n",
    "]"
   ]
  },
  {
   "cell_type": "code",
   "execution_count": 4,
   "metadata": {},
   "outputs": [],
   "source": [
    "from langchain_core.prompts import PromptTemplate\n",
    "from langchain_chroma import Chroma\n",
    "from langchain_core.example_selectors import SemanticSimilarityExampleSelector\n",
    "from langchain_openai import OpenAIEmbeddings\n",
    "from langchain_core.prompts import FewShotPromptTemplate\n",
    "from langchain_openai import ChatOpenAI\n",
    "from langchain_core.output_parsers import StrOutputParser"
   ]
  },
  {
   "cell_type": "code",
   "execution_count": 5,
   "metadata": {},
   "outputs": [],
   "source": [
    "example_prompt = PromptTemplate.from_template(example_template_prompt)"
   ]
  },
  {
   "cell_type": "code",
   "execution_count": 6,
   "metadata": {},
   "outputs": [],
   "source": [
    "example_selector = SemanticSimilarityExampleSelector.from_examples(\n",
    "    # This is the list of examples available to select from.\n",
    "    examples,\n",
    "    # This is the embedding class used to produce embeddings which are used to measure semantic similarity.\n",
    "    OpenAIEmbeddings(),\n",
    "    # This is the VectorStore class that is used to store the embeddings and do a similarity search over.\n",
    "    Chroma,\n",
    "    # This is the number of examples to produce.\n",
    "    k=1,\n",
    ")"
   ]
  },
  {
   "cell_type": "code",
   "execution_count": 7,
   "metadata": {},
   "outputs": [],
   "source": [
    "\n",
    "\n",
    "prompt = FewShotPromptTemplate(\n",
    "    example_selector=example_selector,\n",
    "    example_prompt=example_prompt,\n",
    "    suffix=\"Conversation: {input}\\n\\nSummary:\",\n",
    "    input_variables=[\"input\"],\n",
    ")"
   ]
  },
  {
   "cell_type": "code",
   "execution_count": 8,
   "metadata": {},
   "outputs": [],
   "source": [
    "chat_transcript = \"\"\"\n",
    "Agent: Hello, thank you for calling [Insurance Company] claims department. My name is Linda. How can I assist you today?\n",
    "Customer: Hi Linda, I’d like to submit a new claim for damage to my home after a recent storm.\n",
    "Agent: I’m sorry to hear about that. I’ll help you get the claim started right away. May I have your policy number to locate your account?\n",
    "Customer: Yes, my policy number is 9876543-H.\n",
    "Agent: Thank you. Let me pull up your details...Alright, I have your policy here. Could you please tell me what kind of damage your property sustained?\n",
    "Customer: The storm caused a tree to fall onto my roof, and it has caused some structural damage. The roof is leaking, and a couple of windows are broken.\n",
    "Agent: I’m so sorry to hear that. Thank you for the information. Have you already had someone assess the damage, or do you need assistance with that?\n",
    "Customer: No, I haven’t had anyone come out yet. I wanted to check if you had recommended contractors or if I should arrange that myself.\n",
    "Agent: We can definitely help with that. We have a network of approved contractors who can assess the damage and provide an estimate. Would you like me to arrange for someone to come to your property?\n",
    "Customer: Yes, please. That would be really helpful.\n",
    "Agent: I’ll get that arranged right away. You should expect a call from the contractor within 1-2 business days to schedule the inspection. Once the estimate is completed, it will be submitted directly to us.\n",
    "Customer: Great, thank you. Is there anything else I need to do in the meantime?\n",
    "Agent: If you have any photos of the damage, it would be helpful to upload them to our claims portal. I’ll send you a link where you can easily submit them. Other than that, just wait for the contractor to assess the property, and we’ll take it from there.\n",
    "Customer: Okay, I’ll upload the photos as soon as possible. How long does the claims process usually take?\n",
    "Agent: Once we receive the estimate from the contractor, your adjuster will review it within 3-5 business days. After that, we’ll provide you with the next steps, including how to proceed with repairs.\n",
    "Customer: Got it. I’m just concerned because it’s still raining, and the roof is leaking. Should I do something in the meantime to prevent further damage?\n",
    "Agent: That’s a great question. Yes, if you can take any immediate steps to prevent further damage, such as covering the roof with a tarp, please do so. Your policy may cover those emergency measures as well, so be sure to keep any receipts or documentation of the work.\n",
    "Customer: I’ll take care of that. Does my policy cover living expenses if we need to move out temporarily while repairs are being done?\n",
    "Agent: Yes, your policy includes additional living expenses (ALE) coverage. If the damage makes your home uninhabitable, we can assist with temporary housing arrangements or reimburse you for hotel costs during the repair period.\n",
    "Customer: That’s a relief to know. Thank you for explaining that.\n",
    "Agent: You’re welcome. Is there anything else I can assist you with today?\n",
    "Customer: No, that’s everything for now. I’ll keep an eye out for the contractor’s call.\n",
    "Agent: Perfect. I’ve noted everything down, and I’ll follow up with you once the inspection is complete. In the meantime, don’t hesitate to reach out if you have any other questions. Have a great day.\n",
    "Customer: Thanks, Linda. You’ve been very helpful. Take care.\n",
    "\"\"\""
   ]
  },
  {
   "cell_type": "code",
   "execution_count": 9,
   "metadata": {},
   "outputs": [
    {
     "name": "stdout",
     "output_type": "stream",
     "text": [
      "Summary Instructions: Make sure to capture a very concise summary of the conversation. Please make sure not to miss any vital details like policy number for the conversation below:\n",
      "\n",
      "Conversation: \n",
      "Agent: Hello, thank you for calling [Insurance Company] claims department. My name is John. How can I assist you today?\n",
      "Customer: Hi John, I’d like to submit a new claim for my car. I was involved in an accident yesterday.\n",
      "Agent: I’m sorry to hear that. I’ll help you get the claim started right away. First, can you please provide your policy number or any details so I can pull up your account?\n",
      "Customer: Sure, my policy number is 12345XYZ.\n",
      "Agent: Thank you. Let me pull that up...Alright, I’ve found your policy. Could you please give me a brief description of what happened during the accident?\n",
      "Customer: Yes, I was driving on the highway when someone in front of me suddenly braked. I couldn’t stop in time and rear-ended them. No one was injured, but my car has significant damage to the front.\n",
      "Agent: Thank you for explaining that. I’m glad to hear no one was hurt. Were the police involved, and did you file a report?\n",
      "Customer: Yes, the police came, and I have a copy of the report.\n",
      "Agent: Great. We’ll need a copy of that report to process the claim, but we can continue with the initial steps for now. Were there any other vehicles involved in the accident besides the one you rear-ended?\n",
      "Customer: No, just my car and theirs.\n",
      "Agent: Got it. Based on your description, this will be a collision claim. I’ll go ahead and create a claim file for you. Do you have any photos of the damage that you can upload to our claims portal?\n",
      "Customer: Yes, I took several photos right after the accident. How do I upload those?\n",
      "Agent: You can upload them through our online claims portal. I’ll send you a link to access it, and you can follow the instructions to submit your photos and the police report. Does that sound okay?\n",
      "Customer: Yes, that works. Please send the link.\n",
      "Agent: I’ve just sent you the link. Once we receive the photos and police report, we’ll assign an adjuster to review the claim. They will reach out to you within 1-2 business days. Have you had an estimate for the damage to your vehicle yet?\n",
      "Customer: No, I haven’t taken the car to a shop yet. Should I do that now?\n",
      "Agent: It’s not required to have an estimate immediately, but you can take your car to any of our preferred repair shops, and they will provide an estimate and coordinate with us directly. If you’d prefer to use a different shop, just let us know, and we can work with them.\n",
      "Customer: I’ll probably go with one of your recommended shops. Is there anything else I need to do for the claim?\n",
      "Agent: Once you upload the photos and report, that should be all for now. Your adjuster will take it from there and guide you through the next steps, including repair arrangements and any additional details we may need.\n",
      "Customer: Okay, great. I’ll upload the documents as soon as possible. Does my policy cover a rental car while mine is being repaired?\n",
      "Agent: Let me check that for you...Yes, your policy includes rental car coverage for up to 10 days. Once your claim is approved, you can either book a rental through our preferred providers, or if you have a preferred company, we can reimburse you up to the daily limit.\n",
      "Customer: That’s good to know. I’ll definitely need a rental while my car is being fixed.\n",
      "Agent: Absolutely. Once your adjuster reviews the claim and repairs are approved, they’ll help you arrange for the rental car. Anything else I can assist you with today?\n",
      "Customer: No, I think that covers everything for now. Thanks for your help, John.\n",
      "Agent: You’re very welcome! I’ll keep an eye out for your documents, and we’ll be in touch shortly once your claim is under review. Have a great day.\n",
      "Customer: Thanks, you too!\n",
      "        \n",
      "\n",
      "Summary:\t\n",
      "The customer contacted the insurance company to submit a new claim for a car accident, providing policy number 12345XYZ. The customer explained that they rear-ended another car, with no injuries but significant front-end damage to their vehicle. The police were involved, and the customer has a report. The agent created a collision claim file and sent the customer a link to upload the police report and accident photos. The customer has not yet received a repair estimate but plans to visit a recommended shop. The policy includes rental car coverage for up to 10 days. The adjuster will review the claim within 1-2 business days.\n",
      "\n",
      "\n",
      "Conversation: \n",
      "Agent: Hello, thank you for calling [Insurance Company] claims department. My name is Linda. How can I assist you today?\n",
      "Customer: Hi Linda, I’d like to submit a new claim for damage to my home after a recent storm.\n",
      "Agent: I’m sorry to hear about that. I’ll help you get the claim started right away. May I have your policy number to locate your account?\n",
      "Customer: Yes, my policy number is 9876543-H.\n",
      "Agent: Thank you. Let me pull up your details...Alright, I have your policy here. Could you please tell me what kind of damage your property sustained?\n",
      "Customer: The storm caused a tree to fall onto my roof, and it has caused some structural damage. The roof is leaking, and a couple of windows are broken.\n",
      "Agent: I’m so sorry to hear that. Thank you for the information. Have you already had someone assess the damage, or do you need assistance with that?\n",
      "Customer: No, I haven’t had anyone come out yet. I wanted to check if you had recommended contractors or if I should arrange that myself.\n",
      "Agent: We can definitely help with that. We have a network of approved contractors who can assess the damage and provide an estimate. Would you like me to arrange for someone to come to your property?\n",
      "Customer: Yes, please. That would be really helpful.\n",
      "Agent: I’ll get that arranged right away. You should expect a call from the contractor within 1-2 business days to schedule the inspection. Once the estimate is completed, it will be submitted directly to us.\n",
      "Customer: Great, thank you. Is there anything else I need to do in the meantime?\n",
      "Agent: If you have any photos of the damage, it would be helpful to upload them to our claims portal. I’ll send you a link where you can easily submit them. Other than that, just wait for the contractor to assess the property, and we’ll take it from there.\n",
      "Customer: Okay, I’ll upload the photos as soon as possible. How long does the claims process usually take?\n",
      "Agent: Once we receive the estimate from the contractor, your adjuster will review it within 3-5 business days. After that, we’ll provide you with the next steps, including how to proceed with repairs.\n",
      "Customer: Got it. I’m just concerned because it’s still raining, and the roof is leaking. Should I do something in the meantime to prevent further damage?\n",
      "Agent: That’s a great question. Yes, if you can take any immediate steps to prevent further damage, such as covering the roof with a tarp, please do so. Your policy may cover those emergency measures as well, so be sure to keep any receipts or documentation of the work.\n",
      "Customer: I’ll take care of that. Does my policy cover living expenses if we need to move out temporarily while repairs are being done?\n",
      "Agent: Yes, your policy includes additional living expenses (ALE) coverage. If the damage makes your home uninhabitable, we can assist with temporary housing arrangements or reimburse you for hotel costs during the repair period.\n",
      "Customer: That’s a relief to know. Thank you for explaining that.\n",
      "Agent: You’re welcome. Is there anything else I can assist you with today?\n",
      "Customer: No, that’s everything for now. I’ll keep an eye out for the contractor’s call.\n",
      "Agent: Perfect. I’ve noted everything down, and I’ll follow up with you once the inspection is complete. In the meantime, don’t hesitate to reach out if you have any other questions. Have a great day.\n",
      "Customer: Thanks, Linda. You’ve been very helpful. Take care.\n",
      "\n",
      "\n",
      "Summary:\n"
     ]
    }
   ],
   "source": [
    "print(prompt.format(input=chat_transcript))"
   ]
  },
  {
   "cell_type": "code",
   "execution_count": 10,
   "metadata": {},
   "outputs": [
    {
     "name": "stdout",
     "output_type": "stream",
     "text": [
      "The customer contacted the insurance company to submit a claim for storm damage to their home, providing policy number 9876543-H. A tree fell on the roof, causing structural damage, leaks, and broken windows. The agent arranged for an approved contractor to assess the damage, with a call expected within 1-2 business days. The customer was advised to upload photos of the damage and take immediate steps to prevent further damage, such as covering the roof. The policy includes additional living expenses coverage if the home becomes uninhabitable. The claims process will take 3-5 business days after receiving the contractor's estimate.\n"
     ]
    }
   ],
   "source": [
    "llm = ChatOpenAI(model=\"gpt-4o-mini\")\n",
    "summary_chain = prompt | llm | StrOutputParser()\n",
    "print(summary_chain.invoke({\"input\": chat_transcript}))"
   ]
  },
  {
   "cell_type": "code",
   "execution_count": 11,
   "metadata": {},
   "outputs": [
    {
     "data": {
      "text/plain": [
       "{'customer_name': 'Customer', 'policy_number': '9876543-H'}"
      ]
     },
     "execution_count": 11,
     "metadata": {},
     "output_type": "execute_result"
    }
   ],
   "source": [
    "structured_llm = llm.with_structured_output(json_schema)\n",
    "data_extraction_chain = prompt | structured_llm\n",
    "data_extraction_chain.invoke({\"input\": chat_transcript})"
   ]
  },
  {
   "cell_type": "code",
   "execution_count": 12,
   "metadata": {},
   "outputs": [
    {
     "data": {
      "text/plain": [
       "{'summary': \"The customer called the insurance company to submit a claim for storm damage to their home, providing policy number 9876543-H. A tree fell on the roof, causing structural damage, leaks, and broken windows. The customer has not yet assessed the damage and requested help with finding a contractor. The agent will arrange for a contractor to contact the customer within 1-2 business days. The customer will also upload photos of the damage to the claims portal. The claims process will take 3-5 business days after receiving the contractor's estimate. The policy includes coverage for emergency measures and additional living expenses if the home becomes uninhabitable.\",\n",
       " 'summary_data': {'customer_name': 'Customer', 'policy_number': '9876543-H'}}"
      ]
     },
     "execution_count": 12,
     "metadata": {},
     "output_type": "execute_result"
    }
   ],
   "source": [
    "from langchain_core.runnables import RunnableParallel\n",
    "\n",
    "parallel_chain = RunnableParallel(\n",
    "    summary=summary_chain,\n",
    "    summary_data=data_extraction_chain\n",
    ")\n",
    "parallel_chain.invoke({\"input\": chat_transcript})"
   ]
  },
  {
   "cell_type": "code",
   "execution_count": null,
   "metadata": {},
   "outputs": [],
   "source": []
  }
 ],
 "metadata": {
  "kernelspec": {
   "display_name": "Python 3",
   "language": "python",
   "name": "python3"
  },
  "language_info": {
   "codemirror_mode": {
    "name": "ipython",
    "version": 3
   },
   "file_extension": ".py",
   "mimetype": "text/x-python",
   "name": "python",
   "nbconvert_exporter": "python",
   "pygments_lexer": "ipython3",
   "version": "3.11.9"
  }
 },
 "nbformat": 4,
 "nbformat_minor": 2
}
